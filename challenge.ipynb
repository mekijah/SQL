{
 "cells": [
  {
   "cell_type": "markdown",
   "metadata": {},
   "source": [
    "  # Challenge\n",
    "\n",
    "  ## Identifying Outliers using Standard Deviation"
   ]
  },
  {
   "cell_type": "code",
   "execution_count": null,
   "metadata": {},
   "outputs": [],
   "source": [
    "# initial imports\n",
    "import os\n",
    "import pandas as pd\n",
    "import numpy as np\n",
    "import random\n",
    "from sqlalchemy import create_engine\n",
    "\n"
   ]
  },
  {
   "cell_type": "code",
   "execution_count": null,
   "metadata": {},
   "outputs": [],
   "source": [
    "# create a connection to the database\n",
    "engine= ('postgresql://{username}:{password}@{ipaddress}:{port}/{dbname}'\n",
    "         .format(username='mmassey',\n",
    "                 password=os.getenv('PGAdmin_PW'),\n",
    "                 ipaddress='localhost',\n",
    "                 port='5432',\n",
    "                 dbname='fraud_detection')\n",
    "        )\n",
    "\n",
    "query = \"select a.id, c.date, c.amount \\\n",
    "from card_holder a \\\n",
    "inner join credit_card b \\\n",
    "on a.id = b.cardholder_id \\\n",
    "inner join transaction c \\\n",
    "on b.card = c.card\"\n",
    "\n",
    "df = pd.read_sql(query, engine)\n",
    "df.head()"
   ]
  },
  {
   "cell_type": "code",
   "execution_count": null,
   "metadata": {},
   "outputs": [],
   "source": [
    "# code a function to identify outliers based on standard deviation\n",
    "def card_transaction(input_id):\n",
    "    return df.loc[df['id']==input_id, 'amount']\n",
    "\n",
    "def outliers(input_id):\n",
    "    df1 =card_transaction(input_id)\n",
    "    return pd.DataFrame(df1[df1> df1.mean()+3*df1.std()])\n"
   ]
  },
  {
   "cell_type": "code",
   "execution_count": null,
   "metadata": {},
   "outputs": [],
   "source": [
    "# find anomalous transactions for 3 random card holders\n",
    "rand_card_holders = np.random.randint(1,25,3)\n",
    "\n",
    "for id in rand_card_holders:\n",
    "    if len(outliers(id)) == 0:\n",
    "        print(f\"Card holder {id} has no outlier transactions.\")\n",
    "    else:\n",
    "        print(f\"Card holder {id} has outlier transactions as below:\\n{outliers(id)}.\")\n"
   ]
  },
  {
   "cell_type": "markdown",
   "metadata": {},
   "source": [
    "  ## Identifying Outliers Using Interquartile Range"
   ]
  },
  {
   "cell_type": "code",
   "execution_count": null,
   "metadata": {},
   "outputs": [],
   "source": [
    "# code a function to identify outliers based on interquartile range\n",
    "def outliers_iqr(input_id):\n",
    "    df1 =card_transaction(input_id)\n",
    "    IQR_threshold = np.quantile(df1, .75)+(np.quantile(df1, .75)-np.quantile(df1, .25))*1.5\n",
    "    return pd.DataFrame(df1[df1> IQR_threshold])\n"
   ]
  },
  {
   "cell_type": "code",
   "execution_count": null,
   "metadata": {},
   "outputs": [],
   "source": [
    "# find anomalous transactions for 3 random card holders\n",
    "for id in rand_card_holders:\n",
    "    if len(outliers_iqr(id)) == 0:\n",
    "        print(f\"Card holder {id} has no outlier transactions.\")\n",
    "    else:\n",
    "        print(f\"Card holder {id} has outlier transactions as below:\\n{outliers_iqr(id)}.\")\n"
   ]
  }
 ],
 "metadata": {
  "file_extension": ".py",
  "kernelspec": {
   "display_name": "Python [conda env:alpacaenv]",
   "language": "python",
   "name": "conda-env-alpacaenv-py"
  },
  "language_info": {
   "codemirror_mode": {
    "name": "ipython",
    "version": 3
   },
   "file_extension": ".py",
   "mimetype": "text/x-python",
   "name": "python",
   "nbconvert_exporter": "python",
   "pygments_lexer": "ipython3",
   "version": "3.7.7"
  },
  "mimetype": "text/x-python",
  "name": "python",
  "npconvert_exporter": "python",
  "pygments_lexer": "ipython3",
  "version": 3
 },
 "nbformat": 4,
 "nbformat_minor": 4
}
